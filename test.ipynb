{
 "cells": [
  {
   "cell_type": "code",
   "execution_count": 49,
   "metadata": {},
   "outputs": [
    {
     "name": "stdout",
     "output_type": "stream",
     "text": [
      "Requirement already satisfied: pandas in /home/dwoo/anaconda3/envs/create_camp_2023/lib/python3.10/site-packages (2.0.3)\n",
      "Requirement already satisfied: python-dateutil>=2.8.2 in /home/dwoo/anaconda3/envs/create_camp_2023/lib/python3.10/site-packages (from pandas) (2.8.2)\n",
      "Requirement already satisfied: pytz>=2020.1 in /home/dwoo/anaconda3/envs/create_camp_2023/lib/python3.10/site-packages (from pandas) (2023.3)\n",
      "Requirement already satisfied: tzdata>=2022.1 in /home/dwoo/anaconda3/envs/create_camp_2023/lib/python3.10/site-packages (from pandas) (2023.3)\n",
      "Requirement already satisfied: numpy>=1.21.0 in /home/dwoo/anaconda3/envs/create_camp_2023/lib/python3.10/site-packages (from pandas) (1.25.2)\n",
      "Requirement already satisfied: six>=1.5 in /home/dwoo/anaconda3/envs/create_camp_2023/lib/python3.10/site-packages (from python-dateutil>=2.8.2->pandas) (1.16.0)\n",
      "Note: you may need to restart the kernel to use updated packages.\n",
      "\u001b[31mERROR: Could not find a version that satisfies the requirement json (from versions: none)\u001b[0m\u001b[31m\n",
      "\u001b[0m\u001b[31mERROR: No matching distribution found for json\u001b[0m\u001b[31m\n",
      "\u001b[0mNote: you may need to restart the kernel to use updated packages.\n",
      "\u001b[31mERROR: Could not find a version that satisfies the requirement urllib (from versions: none)\u001b[0m\u001b[31m\n",
      "\u001b[0m\u001b[31mERROR: No matching distribution found for urllib\u001b[0m\u001b[31m\n",
      "\u001b[0mNote: you may need to restart the kernel to use updated packages.\n",
      "\u001b[31mERROR: Could not find a version that satisfies the requirement base64 (from versions: none)\u001b[0m\u001b[31m\n",
      "\u001b[0m\u001b[31mERROR: No matching distribution found for base64\u001b[0m\u001b[31m\n",
      "\u001b[0mNote: you may need to restart the kernel to use updated packages.\n",
      "Collecting datetime\n",
      "  Obtaining dependency information for datetime from https://files.pythonhosted.org/packages/95/88/3b9d4042b396221a132180b392ab2a174031a6fb579f7927f3909fc183a7/DateTime-5.2-py3-none-any.whl.metadata\n",
      "  Downloading DateTime-5.2-py3-none-any.whl.metadata (33 kB)\n",
      "Collecting zope.interface (from datetime)\n",
      "  Downloading zope.interface-6.0-cp310-cp310-manylinux_2_5_x86_64.manylinux1_x86_64.manylinux_2_17_x86_64.manylinux2014_x86_64.whl (246 kB)\n",
      "\u001b[2K     \u001b[90m━━━━━━━━━━━━━━━━━━━━━━━━━━━━━━━━━━━━━━\u001b[0m \u001b[32m247.0/247.0 kB\u001b[0m \u001b[31m10.1 MB/s\u001b[0m eta \u001b[36m0:00:00\u001b[0m\n",
      "\u001b[?25hRequirement already satisfied: pytz in /home/dwoo/anaconda3/envs/create_camp_2023/lib/python3.10/site-packages (from datetime) (2023.3)\n",
      "Requirement already satisfied: setuptools in /home/dwoo/anaconda3/envs/create_camp_2023/lib/python3.10/site-packages (from zope.interface->datetime) (68.0.0)\n",
      "Downloading DateTime-5.2-py3-none-any.whl (52 kB)\n",
      "\u001b[2K   \u001b[90m━━━━━━━━━━━━━━━━━━━━━━━━━━━━━━━━━━━━━━━━\u001b[0m \u001b[32m52.2/52.2 kB\u001b[0m \u001b[31m3.6 MB/s\u001b[0m eta \u001b[36m0:00:00\u001b[0m\n",
      "\u001b[?25hInstalling collected packages: zope.interface, datetime\n",
      "Successfully installed datetime-5.2 zope.interface-6.0\n",
      "Note: you may need to restart the kernel to use updated packages.\n"
     ]
    }
   ],
   "source": [
    "%pip install pandas\n",
    "#%pip install ast\n",
    "%pip install json\n",
    "%pip install urllib\n",
    "%pip install base64\n",
    "%pip install datetime\n",
    "%pip install requests"
   ]
  },
  {
   "cell_type": "code",
   "execution_count": 4,
   "metadata": {},
   "outputs": [],
   "source": [
    "import pandas as pd\n",
    "from ast import literal_eval\n",
    "import json\n",
    "from urllib.request import urlopen\n",
    "import base64\n",
    "from datetime import datetime\n",
    "import requests"
   ]
  },
  {
   "cell_type": "code",
   "execution_count": 3,
   "metadata": {},
   "outputs": [
    {
     "ename": "NameError",
     "evalue": "name 'requests' is not defined",
     "output_type": "error",
     "traceback": [
      "\u001b[0;31m---------------------------------------------------------------------------\u001b[0m",
      "\u001b[0;31mNameError\u001b[0m                                 Traceback (most recent call last)",
      "Cell \u001b[0;32mIn[3], line 18\u001b[0m\n\u001b[1;32m     13\u001b[0m headers \u001b[39m=\u001b[39m {\n\u001b[1;32m     14\u001b[0m     \u001b[39m'\u001b[39m\u001b[39mAuthorization\u001b[39m\u001b[39m'\u001b[39m: \u001b[39mf\u001b[39m\u001b[39m'\u001b[39m\u001b[39mBasic \u001b[39m\u001b[39m{\u001b[39;00mbase64_credentials\u001b[39m}\u001b[39;00m\u001b[39m'\u001b[39m\n\u001b[1;32m     15\u001b[0m }\n\u001b[1;32m     17\u001b[0m \u001b[39m# Make the API request\u001b[39;00m\n\u001b[0;32m---> 18\u001b[0m response \u001b[39m=\u001b[39m requests\u001b[39m.\u001b[39mget(request_url, headers\u001b[39m=\u001b[39mheaders)\n\u001b[1;32m     20\u001b[0m \u001b[39m# Check if the request was successful\u001b[39;00m\n\u001b[1;32m     21\u001b[0m \u001b[39mif\u001b[39;00m response\u001b[39m.\u001b[39mstatus_code \u001b[39m==\u001b[39m \u001b[39m200\u001b[39m:\n",
      "\u001b[0;31mNameError\u001b[0m: name 'requests' is not defined"
     ]
    }
   ],
   "source": [
    "# Set up the request URL\n",
    "request_url = 'https://api.eventfinda.co.nz/v2/events.json?rows=2'\n",
    "\n",
    "# Replace 'username' and 'password' with your actual Eventfinda API username and password\n",
    "username = 'summeroftechcreatecamp'\n",
    "password = 'tcr5sxb84vxj'#\n",
    "\n",
    "# Encode the username and password in base64\n",
    "credentials = f\"{username}:{password}\"\n",
    "base64_credentials = base64.b64encode(credentials.encode()).decode()\n",
    "\n",
    "# Set up the headers for the HTTP request\n",
    "headers = {\n",
    "    'Authorization': f'Basic {base64_credentials}'\n",
    "}\n",
    "\n",
    "# Make the API request\n",
    "response = requests.get(request_url, headers=headers)\n",
    "\n",
    "# Check if the request was successful\n",
    "if response.status_code == 200:\n",
    "    data = response.json()\n",
    "    # Process the data as needed\n",
    "    print(data)\n",
    "else:\n",
    "    print(\"Error:\", response.status_code)\n",
    "\n",
    "for event in data[\"events\"]:\n",
    "    print(event[\"name\"])\n",
    "    print(event[\"address\"])\n",
    "    print(event[\"is_free\"])\n",
    "    print(event['restrictions'])\n",
    "    print(event['category']['url_slug'])\n",
    "    \n",
    "    for img in event[\"images\"][\"images\"]:\n",
    "        print(img['id'])\n",
    "        for imgtran in img[\"transforms\"][\"transforms\"]:\n",
    "            print(imgtran[\"url\"])\n"
   ]
  },
  {
   "cell_type": "code",
   "execution_count": 67,
   "metadata": {},
   "outputs": [
    {
     "name": "stdout",
     "output_type": "stream",
     "text": [
      "{'Choir, Vocal Music', 'Cabaret, Burlesque', 'Fitness ', 'Theatre', 'Covers, Tribute Bands', 'Boxing', 'Music Festivals', 'Fashion'}\n"
     ]
    }
   ],
   "source": [
    "# Set up the request URL\n",
    "request_url = \"https://api.eventfinda.co.nz/v2/events.json\"\n",
    "\n",
    "# Replace 'username' and 'password' with your actual Eventfinda API username and password\n",
    "username = 'summeroftechcreatecamp'\n",
    "password = 'tcr5sxb84vxj'\n",
    "\n",
    "# Encode the username and password in base64\n",
    "credentials = f\"{username}:{password}\"\n",
    "base64_credentials = base64.b64encode(credentials.encode()).decode()\n",
    "\n",
    "# Set up the headers for the HTTP request\n",
    "headers = {\n",
    "    'Authorization': f'Basic {base64_credentials}'\n",
    "}\n",
    "\n",
    "# Calculate the start date (e.g., January 1, 2016)\n",
    "datetime_start = datetime(2022, 1, 1)\n",
    "\n",
    "# Set up the parameters for the HTTP request\n",
    "params = {\n",
    "    'datetime_start': datetime_start,\n",
    "}\n",
    "\n",
    "# Make the API request\n",
    "events_response = requests.get(request_url, params = params, headers=headers)\n",
    "\n",
    "# Check if the request was successful\n",
    "if events_response.status_code == 200:\n",
    "    events_data = events_response.json()\n",
    "    # Extract the list of event categories from the events data\n",
    "    event_categories = set()\n",
    "    for event in events_data['events']:\n",
    "        event_categories.add(event['category']['name'])\n",
    "else:\n",
    "    print(\"Error fetching events:\", events_response.status_code)\n",
    "    event_categories = []\n",
    "\n",
    "print(event_categories)"
   ]
  },
  {
   "cell_type": "code",
   "execution_count": 32,
   "metadata": {},
   "outputs": [
    {
     "name": "stdout",
     "output_type": "stream",
     "text": [
      "{'@attributes': {'count': 153}, 'categories': [{'id': 246, 'name': 'All Events', 'url_slug': 'whatson', 'parent_id': None, 'count_current_events': 4228}, {'id': 6, 'name': 'Concerts & Gig Guide', 'url_slug': 'concerts-gig-guide', 'parent_id': 246, 'count_current_events': 845}, {'id': 1, 'name': 'Performing Arts', 'url_slug': 'arts', 'parent_id': 246, 'count_current_events': 838}, {'id': 21, 'name': 'Theatre', 'url_slug': 'theatre', 'parent_id': 1, 'count_current_events': 184}, {'id': 7, 'name': 'Sports & Outdoors', 'url_slug': 'sports', 'parent_id': 246, 'count_current_events': 286}, {'id': 190, 'name': 'Festivals & Lifestyle', 'url_slug': 'lifestyle', 'parent_id': 246, 'count_current_events': 1106}, {'id': 22, 'name': 'Dance', 'url_slug': 'dance', 'parent_id': 1, 'count_current_events': 73}, {'id': 11, 'name': 'Exhibitions', 'url_slug': 'exhibitions', 'parent_id': 246, 'count_current_events': 242}, {'id': 3, 'name': 'Workshops, Conferences & Classes', 'url_slug': 'workshops-conferences-classes', 'parent_id': 246, 'count_current_events': 911}, {'id': 23, 'name': 'Musicals', 'url_slug': 'arts-culture-musicals', 'parent_id': 1, 'count_current_events': 27}]}\n"
     ]
    },
    {
     "ename": "KeyError",
     "evalue": "'category'",
     "output_type": "error",
     "traceback": [
      "\u001b[0;31m---------------------------------------------------------------------------\u001b[0m",
      "\u001b[0;31mKeyError\u001b[0m                                  Traceback (most recent call last)",
      "Cell \u001b[0;32mIn[32], line 28\u001b[0m\n\u001b[1;32m     25\u001b[0m \u001b[39melse\u001b[39;00m:\n\u001b[1;32m     26\u001b[0m     \u001b[39mprint\u001b[39m(\u001b[39m\"\u001b[39m\u001b[39mError:\u001b[39m\u001b[39m\"\u001b[39m, response\u001b[39m.\u001b[39mstatus_code)\n\u001b[0;32m---> 28\u001b[0m \u001b[39mfor\u001b[39;00m category \u001b[39min\u001b[39;00m data[\u001b[39m\"\u001b[39;49m\u001b[39mcategory\u001b[39;49m\u001b[39m\"\u001b[39;49m]:\n\u001b[1;32m     29\u001b[0m     \u001b[39mprint\u001b[39m(category[\u001b[39m\"\u001b[39m\u001b[39mname\u001b[39m\u001b[39m\"\u001b[39m])\n\u001b[1;32m     30\u001b[0m     \u001b[39mfor\u001b[39;00m imgtran \u001b[39min\u001b[39;00m img[\u001b[39m\"\u001b[39m\u001b[39mtransforms\u001b[39m\u001b[39m\"\u001b[39m][\u001b[39m\"\u001b[39m\u001b[39mtransforms\u001b[39m\u001b[39m\"\u001b[39m]:\n",
      "\u001b[0;31mKeyError\u001b[0m: 'category'"
     ]
    }
   ],
   "source": [
    "# Set up the request URL\n",
    "request_url = \"https://api.eventfinda.co.nz/v2/categories.json\"\n",
    "\n",
    "# Replace 'username' and 'password' with your actual Eventfinda API username and password\n",
    "username = 'summeroftechcreatecamp'\n",
    "password = 'tcr5sxb84vxj'\n",
    "\n",
    "# Encode the username and password in base64\n",
    "credentials = f\"{username}:{password}\"\n",
    "base64_credentials = base64.b64encode(credentials.encode()).decode()\n",
    "\n",
    "# Set up the headers for the HTTP request\n",
    "headers = {\n",
    "    'Authorization': f'Basic {base64_credentials}'\n",
    "}\n",
    "\n",
    "# Make the API request\n",
    "response = requests.get(request_url, headers=headers)\n",
    "\n",
    "# Check if the request was successful\n",
    "if response.status_code == 200:\n",
    "    data = response.json()\n",
    "    # Process the data as needed\n",
    "    print(data)\n",
    "else:\n",
    "    print(\"Error:\", response.status_code)\n",
    "\n",
    "for category in data[\"category\"]:\n",
    "    print(category[\"name\"])\n",
    "    for imgtran in img[\"transforms\"][\"transforms\"]:\n",
    "        print(imgtran[\"url\"])"
   ]
  },
  {
   "cell_type": "code",
   "execution_count": null,
   "metadata": {},
   "outputs": [],
   "source": []
  }
 ],
 "metadata": {
  "kernelspec": {
   "display_name": "create_camp_2023",
   "language": "python",
   "name": "python3"
  },
  "language_info": {
   "codemirror_mode": {
    "name": "ipython",
    "version": 3
   },
   "file_extension": ".py",
   "mimetype": "text/x-python",
   "name": "python",
   "nbconvert_exporter": "python",
   "pygments_lexer": "ipython3",
   "version": "3.10.12"
  },
  "orig_nbformat": 4
 },
 "nbformat": 4,
 "nbformat_minor": 2
}
