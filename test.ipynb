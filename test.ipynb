{
 "cells": [
  {
   "cell_type": "code",
   "execution_count": 49,
   "metadata": {},
   "outputs": [
    {
     "name": "stdout",
     "output_type": "stream",
     "text": [
      "Requirement already satisfied: pandas in /home/dwoo/anaconda3/envs/create_camp_2023/lib/python3.10/site-packages (2.0.3)\n",
      "Requirement already satisfied: python-dateutil>=2.8.2 in /home/dwoo/anaconda3/envs/create_camp_2023/lib/python3.10/site-packages (from pandas) (2.8.2)\n",
      "Requirement already satisfied: pytz>=2020.1 in /home/dwoo/anaconda3/envs/create_camp_2023/lib/python3.10/site-packages (from pandas) (2023.3)\n",
      "Requirement already satisfied: tzdata>=2022.1 in /home/dwoo/anaconda3/envs/create_camp_2023/lib/python3.10/site-packages (from pandas) (2023.3)\n",
      "Requirement already satisfied: numpy>=1.21.0 in /home/dwoo/anaconda3/envs/create_camp_2023/lib/python3.10/site-packages (from pandas) (1.25.2)\n",
      "Requirement already satisfied: six>=1.5 in /home/dwoo/anaconda3/envs/create_camp_2023/lib/python3.10/site-packages (from python-dateutil>=2.8.2->pandas) (1.16.0)\n",
      "Note: you may need to restart the kernel to use updated packages.\n",
      "\u001b[31mERROR: Could not find a version that satisfies the requirement json (from versions: none)\u001b[0m\u001b[31m\n",
      "\u001b[0m\u001b[31mERROR: No matching distribution found for json\u001b[0m\u001b[31m\n",
      "\u001b[0mNote: you may need to restart the kernel to use updated packages.\n",
      "\u001b[31mERROR: Could not find a version that satisfies the requirement urllib (from versions: none)\u001b[0m\u001b[31m\n",
      "\u001b[0m\u001b[31mERROR: No matching distribution found for urllib\u001b[0m\u001b[31m\n",
      "\u001b[0mNote: you may need to restart the kernel to use updated packages.\n",
      "\u001b[31mERROR: Could not find a version that satisfies the requirement base64 (from versions: none)\u001b[0m\u001b[31m\n",
      "\u001b[0m\u001b[31mERROR: No matching distribution found for base64\u001b[0m\u001b[31m\n",
      "\u001b[0mNote: you may need to restart the kernel to use updated packages.\n",
      "Collecting datetime\n",
      "  Obtaining dependency information for datetime from https://files.pythonhosted.org/packages/95/88/3b9d4042b396221a132180b392ab2a174031a6fb579f7927f3909fc183a7/DateTime-5.2-py3-none-any.whl.metadata\n",
      "  Downloading DateTime-5.2-py3-none-any.whl.metadata (33 kB)\n",
      "Collecting zope.interface (from datetime)\n",
      "  Downloading zope.interface-6.0-cp310-cp310-manylinux_2_5_x86_64.manylinux1_x86_64.manylinux_2_17_x86_64.manylinux2014_x86_64.whl (246 kB)\n",
      "\u001b[2K     \u001b[90m━━━━━━━━━━━━━━━━━━━━━━━━━━━━━━━━━━━━━━\u001b[0m \u001b[32m247.0/247.0 kB\u001b[0m \u001b[31m10.1 MB/s\u001b[0m eta \u001b[36m0:00:00\u001b[0m\n",
      "\u001b[?25hRequirement already satisfied: pytz in /home/dwoo/anaconda3/envs/create_camp_2023/lib/python3.10/site-packages (from datetime) (2023.3)\n",
      "Requirement already satisfied: setuptools in /home/dwoo/anaconda3/envs/create_camp_2023/lib/python3.10/site-packages (from zope.interface->datetime) (68.0.0)\n",
      "Downloading DateTime-5.2-py3-none-any.whl (52 kB)\n",
      "\u001b[2K   \u001b[90m━━━━━━━━━━━━━━━━━━━━━━━━━━━━━━━━━━━━━━━━\u001b[0m \u001b[32m52.2/52.2 kB\u001b[0m \u001b[31m3.6 MB/s\u001b[0m eta \u001b[36m0:00:00\u001b[0m\n",
      "\u001b[?25hInstalling collected packages: zope.interface, datetime\n",
      "Successfully installed datetime-5.2 zope.interface-6.0\n",
      "Note: you may need to restart the kernel to use updated packages.\n"
     ]
    }
   ],
   "source": [
    "%pip install pandas\n",
    "#%pip install ast\n",
    "%pip install json\n",
    "%pip install urllib\n",
    "%pip install base64\n",
    "%pip install datetime"
   ]
  },
  {
   "cell_type": "code",
   "execution_count": 50,
   "metadata": {},
   "outputs": [],
   "source": [
    "import pandas as pd\n",
    "from ast import literal_eval\n",
    "import json\n",
    "from urllib.request import urlopen\n",
    "import base64\n",
    "from datetime import datetime"
   ]
  },
  {
   "cell_type": "code",
   "execution_count": 51,
   "metadata": {},
   "outputs": [
    {
     "name": "stdout",
     "output_type": "stream",
     "text": [
      "{'@attributes': {'count': 4198}, 'events': [{'id': 799927, 'url': 'https://www.eventfinda.co.nz/2023/trade-wars/auckland/remuera', 'url_slug': '2023/trade-wars/auckland/remuera', 'name': 'Trade Wars', 'presented_by': '', 'description': \"TKO Entertainment returns to give you Trade Wars!\\r\\n\\r\\nTrade Wars pits local Tradies against one another over 3x2min rounds of Corporate Boxing to decide who's number one!\\r\\n\\r\\n10-12 Explosive Tradie Wars will lead us into ...\", 'datetime_start': '2023-08-12 17:00:00', 'datetime_end': '2023-08-12 22:30:00', 'location_summary': 'Ellerslie Event Centre, Remuera, Auckland', 'address': '100 Ascot Ave, Remuera, Auckland', 'is_free': False, 'is_featured': True, 'is_cancelled': False, 'restrictions': 'R18', 'point': {'lat': -36.8907, 'lng': 174.8032}, 'username': 'ctpboxing', 'timezone': 'Pacific/Auckland', 'location': {'id': 1002, 'name': 'Ellerslie Event Centre', 'summary': 'Ellerslie Event Centre, Remuera, Auckland', 'url_slug': 'auckland-ellerslie-event-centre', 'is_venue': True, 'count_current_events': 2, 'description': 'A central, flexible and picturesque setting \\r\\nSituated in beautiful, park-like surroundings, Ellerslie Event Centre enjoys the ambience and backdrop of the iconic and historic Ellerslie racecourse.  From small intimate ...', 'images': {'@attributes': {'count': 1}, 'images': [{'id': 894645, 'is_primary': True, 'original_url': 'https://cdn.eventfinda.co.nz/uploads/locations/894645-1002.jpg', 'transforms': {'@attributes': {'count': 4}, 'transforms': [{'transformation_id': 2, 'url': 'https://cdn.eventfinda.co.nz/uploads/locations/transformed/894645-1002-2.jpg', 'width': 80, 'height': 34}, {'transformation_id': 15, 'url': 'https://cdn.eventfinda.co.nz/uploads/locations/transformed/894645-1002-15.jpg', 'width': 75, 'height': 75}, {'transformation_id': 8, 'url': 'https://cdn.eventfinda.co.nz/uploads/locations/transformed/894645-1002-8.jpg', 'width': 190, 'height': 127}, {'transformation_id': 7, 'url': 'https://cdn.eventfinda.co.nz/uploads/locations/transformed/894645-1002-7.jpg', 'width': 650, 'height': 280}]}}]}, 'point': {'lat': -36.8907, 'lng': 174.8032}}, 'category': {'id': 159, 'name': 'Boxing', 'url_slug': 'boxing', 'parent_id': 7, 'count_current_events': 8}, 'datetime_summary': 'Sat 12 Aug', 'external_reference': None, 'video': None, 'is_sold_out': False, 'sessions': {'@attributes': {'count': 1}, 'sessions': [{'id': 3391315, 'timezone': 'Pacific/Auckland', 'datetime_start': '2023-08-12 17:00:00', 'datetime_end': '2023-08-12 22:30:00', 'is_cancelled': False, 'is_ticketed': True, 'is_currently_onsale': False, 'is_for_tickets_only': False, 'ticketing_label': None, 'offsale_at': None, 'session_tickets': {'@attributes': {'count': 4}, 'session_tickets': [{'id': 2906344, 'name': 'Ringside Corporate Table ', 'price': '2600.00', 'is_ticketed': True, 'description': 'Ringside Tables + Buffet meals & 3 Hour Unlimited drinks package seat 10 people', 'minimum_purchase_quantity': 1, 'is_addon': False, 'onsale_at': None, 'offsale_at': '2023-08-11 09:00:00', 'is_sold_out': False, 'is_limited_remaining': True}, {'id': 2906345, 'name': 'Gold Corporate Table ', 'price': '2200.00', 'is_ticketed': True, 'description': 'A Row back from Ringside + Full Buffet & 3 Hour Unlimited Drinks Package seat 10', 'minimum_purchase_quantity': 1, 'is_addon': False, 'onsale_at': None, 'offsale_at': '2023-08-11 09:00:00', 'is_sold_out': False, 'is_limited_remaining': True}, {'id': 2906358, 'name': 'Silver Corporate Table ', 'price': '1600.00', 'is_ticketed': True, 'description': 'Back Row Tables. FOOD ONLY, NO DRINKS.  Buffet Meals. Seat 10', 'minimum_purchase_quantity': 1, 'is_addon': False, 'onsale_at': None, 'offsale_at': '2023-08-11 09:00:00', 'is_sold_out': False, 'is_limited_remaining': True}, {'id': 2906373, 'name': 'General Admission', 'price': '50.00', 'is_ticketed': True, 'description': 'General Admission Seating, first in first served.', 'minimum_purchase_quantity': 1, 'is_addon': False, 'onsale_at': None, 'offsale_at': '2023-08-11 21:00:00', 'is_sold_out': False, 'is_limited_remaining': False}]}, 'datetime_summary': 'Sat 12 Aug,  5:00pm - 10:30pm'}]}, 'ticket_types': {'@attributes': {'count': 0}, 'ticket_types': []}, 'artists': {'@attributes': {'count': 0}, 'artists': []}, 'web_sites': {'@attributes': {'count': 0}, 'web_sites': []}, 'images': {'@attributes': {'count': 1}, 'images': [{'id': 1850242, 'is_primary': True, 'original_url': 'https://cdn.eventfinda.co.nz/uploads/events/1850242-799927.jpg', 'transforms': {'@attributes': {'count': 5}, 'transforms': [{'transformation_id': 2, 'url': 'https://cdn.eventfinda.co.nz/uploads/events/transformed/1850242-799927-2.jpg', 'width': 80, 'height': 80}, {'transformation_id': 15, 'url': 'https://cdn.eventfinda.co.nz/uploads/events/transformed/1850242-799927-15.jpg', 'width': 75, 'height': 75}, {'transformation_id': 8, 'url': 'https://cdn.eventfinda.co.nz/uploads/events/transformed/1850242-799927-8.jpg', 'width': 190, 'height': 127}, {'transformation_id': 27, 'url': 'https://cdn.eventfinda.co.nz/uploads/events/transformed/1850242-799927-27.jpg', 'width': 350, 'height': 350}, {'transformation_id': 7, 'url': 'https://cdn.eventfinda.co.nz/uploads/events/transformed/1850242-799927-7.jpg?v=2', 'width': 650, 'height': 280}]}}]}}, {'id': 802187, 'url': 'https://www.eventfinda.co.nz/2023/the-hawkes-bay-muscle-model-championships/hastings', 'url_slug': '2023/the-hawkes-bay-muscle-model-championships/hastings', 'name': 'The Hawkes Bay Muscle & Model Championships', 'presented_by': '', 'description': \"ICompete Natural NZ (ICN) and Stealth Supplements present the 2023 Hawke's Bay Muscle and Model Championships. \\r\\n\\r\\nSupport your friends and family as they showcase their hard work on the best natural bodybuilding stage ...\", 'datetime_start': '2023-08-12 11:00:00', 'datetime_end': '2023-08-12 18:30:00', 'location_summary': \"Toitoi - Opera House, Hastings, Hawke's Bay / Gisborne\", 'address': \"101 Hastings Street South, Hastings, Hawke's Bay / Gisborne\", 'is_free': False, 'is_featured': True, 'is_cancelled': False, 'restrictions': 'All Ages', 'point': {'lat': -39.6448, 'lng': 176.8456}, 'username': 'icompetenaturalnz', 'timezone': 'Pacific/Auckland', 'location': {'id': 36455, 'name': 'Toitoi - Opera House', 'summary': \"Toitoi - Opera House, Hastings, Hawke's Bay / Gisborne\", 'url_slug': 'toitoi-opera-house-hastings', 'is_venue': True, 'count_current_events': 14, 'description': 'With seating for 979 people and 240sqm of stage space, surrounded by an opulent Art Nouveau interior of awe-inspiring proportions, the Opera House theatre guarantees your guests a memorable experience.  \\r\\n\\r\\nThe Opera ...', 'images': {'@attributes': {'count': 1}, 'images': [{'id': 1677197, 'is_primary': True, 'original_url': 'https://cdn.eventfinda.co.nz/uploads/locations/1677197-36455.png', 'transforms': {'@attributes': {'count': 5}, 'transforms': [{'transformation_id': 2, 'url': 'https://cdn.eventfinda.co.nz/uploads/locations/transformed/1677197-36455-2.png', 'width': 80, 'height': 54}, {'transformation_id': 15, 'url': 'https://cdn.eventfinda.co.nz/uploads/locations/transformed/1677197-36455-15.png', 'width': 75, 'height': 75}, {'transformation_id': 8, 'url': 'https://cdn.eventfinda.co.nz/uploads/locations/transformed/1677197-36455-8.png', 'width': 190, 'height': 127}, {'transformation_id': 27, 'url': 'https://cdn.eventfinda.co.nz/uploads/locations/transformed/1677197-36455-27.png', 'width': 350, 'height': 350}, {'transformation_id': 7, 'url': 'https://cdn.eventfinda.co.nz/uploads/locations/transformed/1677197-36455-7.png', 'width': 650, 'height': 280}]}}]}, 'point': {'lat': -39.6448, 'lng': 176.8456}}, 'category': {'id': 315, 'name': 'Fitness ', 'url_slug': 'fitness', 'parent_id': 7, 'count_current_events': 9}, 'datetime_summary': 'Sat 12 Aug', 'external_reference': None, 'video': None, 'is_sold_out': True, 'sessions': {'@attributes': {'count': 1}, 'sessions': [{'id': 3399914, 'timezone': 'Pacific/Auckland', 'datetime_start': '2023-08-12 11:00:00', 'datetime_end': '2023-08-12 18:30:00', 'is_cancelled': False, 'is_ticketed': True, 'is_currently_onsale': False, 'is_for_tickets_only': False, 'ticketing_label': None, 'offsale_at': '2023-08-12 14:00:00', 'session_tickets': {'@attributes': {'count': 2}, 'session_tickets': [{'id': 2913446, 'name': 'Adult General Admission', 'price': '35.00', 'is_ticketed': True, 'description': '', 'minimum_purchase_quantity': 1, 'is_addon': False, 'onsale_at': '2023-06-19 18:00:00', 'offsale_at': '2023-08-12 14:00:00', 'is_sold_out': True, 'is_limited_remaining': True}, {'id': 2913565, 'name': 'Child', 'price': '0.00', 'is_ticketed': True, 'description': 'Age 10 and under', 'minimum_purchase_quantity': 1, 'is_addon': False, 'onsale_at': None, 'offsale_at': '2023-08-12 14:00:00', 'is_sold_out': True, 'is_limited_remaining': True}]}, 'datetime_summary': 'Sat 12 Aug, 11:00am -  6:30pm'}]}, 'ticket_types': {'@attributes': {'count': 0}, 'ticket_types': []}, 'artists': {'@attributes': {'count': 0}, 'artists': []}, 'web_sites': {'@attributes': {'count': 2}, 'web_sites': [{'url': 'http://www.icompetenatural.co.nz', 'name': 'ICN New Zealand'}, {'url': 'http://www.toitoivenues.co.nz', 'name': \"Toitoi - Hawke's Bay Arts & Events Centre\"}]}, 'images': {'@attributes': {'count': 1}, 'images': [{'id': 1855391, 'is_primary': True, 'original_url': 'https://cdn.eventfinda.co.nz/uploads/events/1855391-802187.jpg', 'transforms': {'@attributes': {'count': 5}, 'transforms': [{'transformation_id': 2, 'url': 'https://cdn.eventfinda.co.nz/uploads/events/transformed/1855391-802187-2.jpg', 'width': 80, 'height': 34}, {'transformation_id': 15, 'url': 'https://cdn.eventfinda.co.nz/uploads/events/transformed/1855391-802187-15.jpg', 'width': 75, 'height': 75}, {'transformation_id': 8, 'url': 'https://cdn.eventfinda.co.nz/uploads/events/transformed/1855391-802187-8.jpg', 'width': 190, 'height': 127}, {'transformation_id': 27, 'url': 'https://cdn.eventfinda.co.nz/uploads/events/transformed/1855391-802187-27.jpg', 'width': 350, 'height': 350}, {'transformation_id': 7, 'url': 'https://cdn.eventfinda.co.nz/uploads/events/transformed/1855391-802187-7.jpg', 'width': 650, 'height': 280}]}}]}}]}\n",
      "Trade Wars\n",
      "100 Ascot Ave, Remuera, Auckland\n",
      "False\n",
      "R18\n",
      "boxing\n",
      "1850242\n",
      "https://cdn.eventfinda.co.nz/uploads/events/transformed/1850242-799927-2.jpg\n",
      "https://cdn.eventfinda.co.nz/uploads/events/transformed/1850242-799927-15.jpg\n",
      "https://cdn.eventfinda.co.nz/uploads/events/transformed/1850242-799927-8.jpg\n",
      "https://cdn.eventfinda.co.nz/uploads/events/transformed/1850242-799927-27.jpg\n",
      "https://cdn.eventfinda.co.nz/uploads/events/transformed/1850242-799927-7.jpg?v=2\n",
      "The Hawkes Bay Muscle & Model Championships\n",
      "101 Hastings Street South, Hastings, Hawke's Bay / Gisborne\n",
      "False\n",
      "All Ages\n",
      "fitness\n",
      "1855391\n",
      "https://cdn.eventfinda.co.nz/uploads/events/transformed/1855391-802187-2.jpg\n",
      "https://cdn.eventfinda.co.nz/uploads/events/transformed/1855391-802187-15.jpg\n",
      "https://cdn.eventfinda.co.nz/uploads/events/transformed/1855391-802187-8.jpg\n",
      "https://cdn.eventfinda.co.nz/uploads/events/transformed/1855391-802187-27.jpg\n",
      "https://cdn.eventfinda.co.nz/uploads/events/transformed/1855391-802187-7.jpg\n"
     ]
    }
   ],
   "source": [
    "# Set up the request URL\n",
    "request_url = 'https://api.eventfinda.co.nz/v2/events.json?rows=2'\n",
    "\n",
    "# Replace 'username' and 'password' with your actual Eventfinda API username and password\n",
    "username = 'summeroftechcreatecamp'\n",
    "password = 'tcr5sxb84vxj'#\n",
    "\n",
    "# Encode the username and password in base64\n",
    "credentials = f\"{username}:{password}\"\n",
    "base64_credentials = base64.b64encode(credentials.encode()).decode()\n",
    "\n",
    "# Set up the headers for the HTTP request\n",
    "headers = {\n",
    "    'Authorization': f'Basic {base64_credentials}'\n",
    "}\n",
    "\n",
    "# Make the API request\n",
    "response = requests.get(request_url, headers=headers)\n",
    "\n",
    "# Check if the request was successful\n",
    "if response.status_code == 200:\n",
    "    data = response.json()\n",
    "    # Process the data as needed\n",
    "    print(data)\n",
    "else:\n",
    "    print(\"Error:\", response.status_code)\n",
    "\n",
    "for event in data[\"events\"]:\n",
    "    print(event[\"name\"])\n",
    "    print(event[\"address\"])\n",
    "    print(event[\"is_free\"])\n",
    "    print(event['restrictions'])\n",
    "    print(event['category']['url_slug'])\n",
    "    \n",
    "    for img in event[\"images\"][\"images\"]:\n",
    "        print(img['id'])\n",
    "        for imgtran in img[\"transforms\"][\"transforms\"]:\n",
    "            print(imgtran[\"url\"])\n"
   ]
  },
  {
   "cell_type": "code",
   "execution_count": 67,
   "metadata": {},
   "outputs": [
    {
     "name": "stdout",
     "output_type": "stream",
     "text": [
      "{'Choir, Vocal Music', 'Cabaret, Burlesque', 'Fitness ', 'Theatre', 'Covers, Tribute Bands', 'Boxing', 'Music Festivals', 'Fashion'}\n"
     ]
    }
   ],
   "source": [
    "# Set up the request URL\n",
    "request_url = \"https://api.eventfinda.co.nz/v2/events.json\"\n",
    "\n",
    "# Replace 'username' and 'password' with your actual Eventfinda API username and password\n",
    "username = 'summeroftechcreatecamp'\n",
    "password = 'tcr5sxb84vxj'\n",
    "\n",
    "# Encode the username and password in base64\n",
    "credentials = f\"{username}:{password}\"\n",
    "base64_credentials = base64.b64encode(credentials.encode()).decode()\n",
    "\n",
    "# Set up the headers for the HTTP request\n",
    "headers = {\n",
    "    'Authorization': f'Basic {base64_credentials}'\n",
    "}\n",
    "\n",
    "# Calculate the start date (e.g., January 1, 2016)\n",
    "datetime_start = datetime(2022, 1, 1)\n",
    "\n",
    "# Set up the parameters for the HTTP request\n",
    "params = {\n",
    "    'datetime_start': datetime_start,\n",
    "}\n",
    "\n",
    "# Make the API request\n",
    "events_response = requests.get(request_url, params = params, headers=headers)\n",
    "\n",
    "# Check if the request was successful\n",
    "if events_response.status_code == 200:\n",
    "    events_data = events_response.json()\n",
    "    # Extract the list of event categories from the events data\n",
    "    event_categories = set()\n",
    "    for event in events_data['events']:\n",
    "        event_categories.add(event['category']['name'])\n",
    "else:\n",
    "    print(\"Error fetching events:\", events_response.status_code)\n",
    "    event_categories = []\n",
    "\n",
    "print(event_categories)"
   ]
  },
  {
   "cell_type": "code",
   "execution_count": 32,
   "metadata": {},
   "outputs": [
    {
     "name": "stdout",
     "output_type": "stream",
     "text": [
      "{'@attributes': {'count': 153}, 'categories': [{'id': 246, 'name': 'All Events', 'url_slug': 'whatson', 'parent_id': None, 'count_current_events': 4228}, {'id': 6, 'name': 'Concerts & Gig Guide', 'url_slug': 'concerts-gig-guide', 'parent_id': 246, 'count_current_events': 845}, {'id': 1, 'name': 'Performing Arts', 'url_slug': 'arts', 'parent_id': 246, 'count_current_events': 838}, {'id': 21, 'name': 'Theatre', 'url_slug': 'theatre', 'parent_id': 1, 'count_current_events': 184}, {'id': 7, 'name': 'Sports & Outdoors', 'url_slug': 'sports', 'parent_id': 246, 'count_current_events': 286}, {'id': 190, 'name': 'Festivals & Lifestyle', 'url_slug': 'lifestyle', 'parent_id': 246, 'count_current_events': 1106}, {'id': 22, 'name': 'Dance', 'url_slug': 'dance', 'parent_id': 1, 'count_current_events': 73}, {'id': 11, 'name': 'Exhibitions', 'url_slug': 'exhibitions', 'parent_id': 246, 'count_current_events': 242}, {'id': 3, 'name': 'Workshops, Conferences & Classes', 'url_slug': 'workshops-conferences-classes', 'parent_id': 246, 'count_current_events': 911}, {'id': 23, 'name': 'Musicals', 'url_slug': 'arts-culture-musicals', 'parent_id': 1, 'count_current_events': 27}]}\n"
     ]
    },
    {
     "ename": "KeyError",
     "evalue": "'category'",
     "output_type": "error",
     "traceback": [
      "\u001b[0;31m---------------------------------------------------------------------------\u001b[0m",
      "\u001b[0;31mKeyError\u001b[0m                                  Traceback (most recent call last)",
      "Cell \u001b[0;32mIn[32], line 28\u001b[0m\n\u001b[1;32m     25\u001b[0m \u001b[39melse\u001b[39;00m:\n\u001b[1;32m     26\u001b[0m     \u001b[39mprint\u001b[39m(\u001b[39m\"\u001b[39m\u001b[39mError:\u001b[39m\u001b[39m\"\u001b[39m, response\u001b[39m.\u001b[39mstatus_code)\n\u001b[0;32m---> 28\u001b[0m \u001b[39mfor\u001b[39;00m category \u001b[39min\u001b[39;00m data[\u001b[39m\"\u001b[39;49m\u001b[39mcategory\u001b[39;49m\u001b[39m\"\u001b[39;49m]:\n\u001b[1;32m     29\u001b[0m     \u001b[39mprint\u001b[39m(category[\u001b[39m\"\u001b[39m\u001b[39mname\u001b[39m\u001b[39m\"\u001b[39m])\n\u001b[1;32m     30\u001b[0m     \u001b[39mfor\u001b[39;00m imgtran \u001b[39min\u001b[39;00m img[\u001b[39m\"\u001b[39m\u001b[39mtransforms\u001b[39m\u001b[39m\"\u001b[39m][\u001b[39m\"\u001b[39m\u001b[39mtransforms\u001b[39m\u001b[39m\"\u001b[39m]:\n",
      "\u001b[0;31mKeyError\u001b[0m: 'category'"
     ]
    }
   ],
   "source": [
    "# Set up the request URL\n",
    "request_url = \"https://api.eventfinda.co.nz/v2/categories.json\"\n",
    "\n",
    "# Replace 'username' and 'password' with your actual Eventfinda API username and password\n",
    "username = 'summeroftechcreatecamp'\n",
    "password = 'tcr5sxb84vxj'\n",
    "\n",
    "# Encode the username and password in base64\n",
    "credentials = f\"{username}:{password}\"\n",
    "base64_credentials = base64.b64encode(credentials.encode()).decode()\n",
    "\n",
    "# Set up the headers for the HTTP request\n",
    "headers = {\n",
    "    'Authorization': f'Basic {base64_credentials}'\n",
    "}\n",
    "\n",
    "# Make the API request\n",
    "response = requests.get(request_url, headers=headers)\n",
    "\n",
    "# Check if the request was successful\n",
    "if response.status_code == 200:\n",
    "    data = response.json()\n",
    "    # Process the data as needed\n",
    "    print(data)\n",
    "else:\n",
    "    print(\"Error:\", response.status_code)\n",
    "\n",
    "for category in data[\"category\"]:\n",
    "    print(category[\"name\"])\n",
    "    for imgtran in img[\"transforms\"][\"transforms\"]:\n",
    "        print(imgtran[\"url\"])"
   ]
  },
  {
   "cell_type": "code",
   "execution_count": null,
   "metadata": {},
   "outputs": [],
   "source": []
  }
 ],
 "metadata": {
  "kernelspec": {
   "display_name": "create_camp_2023",
   "language": "python",
   "name": "python3"
  },
  "language_info": {
   "codemirror_mode": {
    "name": "ipython",
    "version": 3
   },
   "file_extension": ".py",
   "mimetype": "text/x-python",
   "name": "python",
   "nbconvert_exporter": "python",
   "pygments_lexer": "ipython3",
   "version": "3.10.12"
  },
  "orig_nbformat": 4
 },
 "nbformat": 4,
 "nbformat_minor": 2
}
