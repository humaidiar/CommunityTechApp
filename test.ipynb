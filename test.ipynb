{
 "cells": [
  {
   "cell_type": "code",
   "execution_count": 11,
   "metadata": {},
   "outputs": [
    {
     "name": "stdout",
     "output_type": "stream",
     "text": [
      "Requirement already satisfied: pandas in /home/dwoo/anaconda3/envs/create_camp_2023/lib/python3.10/site-packages (2.0.3)\n",
      "Requirement already satisfied: python-dateutil>=2.8.2 in /home/dwoo/anaconda3/envs/create_camp_2023/lib/python3.10/site-packages (from pandas) (2.8.2)\n",
      "Requirement already satisfied: pytz>=2020.1 in /home/dwoo/anaconda3/envs/create_camp_2023/lib/python3.10/site-packages (from pandas) (2023.3)\n",
      "Requirement already satisfied: tzdata>=2022.1 in /home/dwoo/anaconda3/envs/create_camp_2023/lib/python3.10/site-packages (from pandas) (2023.3)\n",
      "Requirement already satisfied: numpy>=1.21.0 in /home/dwoo/anaconda3/envs/create_camp_2023/lib/python3.10/site-packages (from pandas) (1.25.2)\n",
      "Requirement already satisfied: six>=1.5 in /home/dwoo/anaconda3/envs/create_camp_2023/lib/python3.10/site-packages (from python-dateutil>=2.8.2->pandas) (1.16.0)\n",
      "Note: you may need to restart the kernel to use updated packages.\n",
      "\u001b[31mERROR: Could not find a version that satisfies the requirement json (from versions: none)\u001b[0m\u001b[31m\n",
      "\u001b[0m\u001b[31mERROR: No matching distribution found for json\u001b[0m\u001b[31m\n",
      "\u001b[0mNote: you may need to restart the kernel to use updated packages.\n",
      "\u001b[31mERROR: Could not find a version that satisfies the requirement urllib (from versions: none)\u001b[0m\u001b[31m\n",
      "\u001b[0m\u001b[31mERROR: No matching distribution found for urllib\u001b[0m\u001b[31m\n",
      "\u001b[0mNote: you may need to restart the kernel to use updated packages.\n",
      "\u001b[31mERROR: Could not find a version that satisfies the requirement base64 (from versions: none)\u001b[0m\u001b[31m\n",
      "\u001b[0m\u001b[31mERROR: No matching distribution found for base64\u001b[0m\u001b[31m\n",
      "\u001b[0mNote: you may need to restart the kernel to use updated packages.\n"
     ]
    }
   ],
   "source": [
    "%pip install pandas\n",
    "#%pip install ast\n",
    "%pip install json\n",
    "%pip install urllib\n",
    "%pip install base64"
   ]
  },
  {
   "cell_type": "code",
   "execution_count": 15,
   "metadata": {},
   "outputs": [],
   "source": [
    "import pandas as pd\n",
    "from ast import literal_eval\n",
    "import json\n",
    "from urllib.request import urlopen\n",
    "import base64"
   ]
  },
  {
   "cell_type": "code",
   "execution_count": 26,
   "metadata": {},
   "outputs": [
    {
     "name": "stdout",
     "output_type": "stream",
     "text": [
      "{'@attributes': {'count': 4223}, 'events': [{'id': 799927, 'url': 'https://www.eventfinda.co.nz/2023/trade-wars/auckland/remuera', 'url_slug': '2023/trade-wars/auckland/remuera', 'name': 'Trade Wars', 'presented_by': '', 'description': \"TKO Entertainment returns to give you Trade Wars!\\r\\n\\r\\nTrade Wars pits local Tradies against one another over 3x2min rounds of Corporate Boxing to decide who's number one!\\r\\n\\r\\n10-12 Explosive Tradie Wars will lead us into ...\", 'datetime_start': '2023-08-12 17:00:00', 'datetime_end': '2023-08-12 22:30:00', 'location_summary': 'Ellerslie Event Centre, Remuera, Auckland', 'address': '100 Ascot Ave, Remuera, Auckland', 'is_free': False, 'is_featured': True, 'is_cancelled': False, 'restrictions': 'R18', 'point': {'lat': -36.8907, 'lng': 174.8032}, 'username': 'ctpboxing', 'timezone': 'Pacific/Auckland', 'location': {'id': 1002, 'name': 'Ellerslie Event Centre', 'summary': 'Ellerslie Event Centre, Remuera, Auckland', 'url_slug': 'auckland-ellerslie-event-centre', 'is_venue': True, 'count_current_events': 2, 'description': 'A central, flexible and picturesque setting \\r\\nSituated in beautiful, park-like surroundings, Ellerslie Event Centre enjoys the ambience and backdrop of the iconic and historic Ellerslie racecourse.  From small intimate ...', 'images': {'@attributes': {'count': 1}, 'images': [{'id': 894645, 'is_primary': True, 'original_url': 'https://cdn.eventfinda.co.nz/uploads/locations/894645-1002.jpg', 'transforms': {'@attributes': {'count': 4}, 'transforms': [{'transformation_id': 2, 'url': 'https://cdn.eventfinda.co.nz/uploads/locations/transformed/894645-1002-2.jpg', 'width': 80, 'height': 34}, {'transformation_id': 15, 'url': 'https://cdn.eventfinda.co.nz/uploads/locations/transformed/894645-1002-15.jpg', 'width': 75, 'height': 75}, {'transformation_id': 8, 'url': 'https://cdn.eventfinda.co.nz/uploads/locations/transformed/894645-1002-8.jpg', 'width': 190, 'height': 127}, {'transformation_id': 7, 'url': 'https://cdn.eventfinda.co.nz/uploads/locations/transformed/894645-1002-7.jpg', 'width': 650, 'height': 280}]}}]}, 'point': {'lat': -36.8907, 'lng': 174.8032}}, 'category': {'id': 159, 'name': 'Boxing', 'url_slug': 'boxing', 'parent_id': 7, 'count_current_events': 8}, 'datetime_summary': 'Sat 12 Aug', 'external_reference': None, 'video': None, 'is_sold_out': False, 'sessions': {'@attributes': {'count': 1}, 'sessions': [{'id': 3391315, 'timezone': 'Pacific/Auckland', 'datetime_start': '2023-08-12 17:00:00', 'datetime_end': '2023-08-12 22:30:00', 'is_cancelled': False, 'is_ticketed': True, 'is_currently_onsale': False, 'is_for_tickets_only': False, 'ticketing_label': None, 'offsale_at': None, 'session_tickets': {'@attributes': {'count': 4}, 'session_tickets': [{'id': 2906344, 'name': 'Ringside Corporate Table ', 'price': '2600.00', 'is_ticketed': True, 'description': 'Ringside Tables + Buffet meals & 3 Hour Unlimited drinks package seat 10 people', 'minimum_purchase_quantity': 1, 'is_addon': False, 'onsale_at': None, 'offsale_at': '2023-08-11 09:00:00', 'is_sold_out': False, 'is_limited_remaining': True}, {'id': 2906345, 'name': 'Gold Corporate Table ', 'price': '2200.00', 'is_ticketed': True, 'description': 'A Row back from Ringside + Full Buffet & 3 Hour Unlimited Drinks Package seat 10', 'minimum_purchase_quantity': 1, 'is_addon': False, 'onsale_at': None, 'offsale_at': '2023-08-11 09:00:00', 'is_sold_out': False, 'is_limited_remaining': True}, {'id': 2906358, 'name': 'Silver Corporate Table ', 'price': '1600.00', 'is_ticketed': True, 'description': 'Back Row Tables. FOOD ONLY, NO DRINKS.  Buffet Meals. Seat 10', 'minimum_purchase_quantity': 1, 'is_addon': False, 'onsale_at': None, 'offsale_at': '2023-08-11 09:00:00', 'is_sold_out': False, 'is_limited_remaining': True}, {'id': 2906373, 'name': 'General Admission', 'price': '50.00', 'is_ticketed': True, 'description': 'General Admission Seating, first in first served.', 'minimum_purchase_quantity': 1, 'is_addon': False, 'onsale_at': None, 'offsale_at': '2023-08-11 21:00:00', 'is_sold_out': False, 'is_limited_remaining': False}]}, 'datetime_summary': 'Sat 12 Aug,  5:00pm - 10:30pm'}]}, 'ticket_types': {'@attributes': {'count': 0}, 'ticket_types': []}, 'artists': {'@attributes': {'count': 0}, 'artists': []}, 'web_sites': {'@attributes': {'count': 0}, 'web_sites': []}, 'images': {'@attributes': {'count': 1}, 'images': [{'id': 1850242, 'is_primary': True, 'original_url': 'https://cdn.eventfinda.co.nz/uploads/events/1850242-799927.jpg', 'transforms': {'@attributes': {'count': 5}, 'transforms': [{'transformation_id': 2, 'url': 'https://cdn.eventfinda.co.nz/uploads/events/transformed/1850242-799927-2.jpg', 'width': 80, 'height': 80}, {'transformation_id': 15, 'url': 'https://cdn.eventfinda.co.nz/uploads/events/transformed/1850242-799927-15.jpg', 'width': 75, 'height': 75}, {'transformation_id': 8, 'url': 'https://cdn.eventfinda.co.nz/uploads/events/transformed/1850242-799927-8.jpg', 'width': 190, 'height': 127}, {'transformation_id': 27, 'url': 'https://cdn.eventfinda.co.nz/uploads/events/transformed/1850242-799927-27.jpg', 'width': 350, 'height': 350}, {'transformation_id': 7, 'url': 'https://cdn.eventfinda.co.nz/uploads/events/transformed/1850242-799927-7.jpg?v=2', 'width': 650, 'height': 280}]}}]}}, {'id': 804081, 'url': 'https://www.eventfinda.co.nz/2023/welcome-back-to-the-dollhouse/whangarei', 'url_slug': '2023/welcome-back-to-the-dollhouse/whangarei', 'name': 'Welcome Back to the Dollhouse', 'presented_by': '', 'description': 'The Northern Dolls are back with a brand new Whangārei burlesque show! \\n \\nJoin your host Cream Centaur as he takes you on a guided tour of the Dollhouse, where you&rsquo;ll find a stellar line up of Northland&rsquo;s ...', 'datetime_start': '2023-08-11 20:30:00', 'datetime_end': '2023-08-12 21:00:00', 'location_summary': 'ONEONESIX, Whangarei', 'address': '116a Bank Street, Whangarei', 'is_free': False, 'is_featured': True, 'is_cancelled': False, 'restrictions': 'R18', 'point': {'lat': -35.7216, 'lng': 174.3208}, 'username': 'CherryDevine', 'timezone': 'Pacific/Auckland', 'location': {'id': 33653, 'name': 'ONEONESIX', 'summary': 'ONEONESIX, Whangarei', 'url_slug': 'oneonesix-whangarei', 'is_venue': True, 'count_current_events': 13, 'description': 'ONEONESIX is a community operated space open for original, innovative and unique forms of sharing, dialogue, performance, arts practice, citizen media, physical arts, and anything you might dream of.\\r\\n\\r\\nThe space has ...', 'images': {'@attributes': {'count': 11}, 'images': [{'id': 1404573, 'is_primary': True, 'original_url': 'https://cdn.eventfinda.co.nz/uploads/locations/1404573-33653.jpg', 'transforms': {'@attributes': {'count': 4}, 'transforms': [{'transformation_id': 2, 'url': 'https://cdn.eventfinda.co.nz/uploads/locations/transformed/1404573-33653-2.jpg', 'width': 80, 'height': 80}, {'transformation_id': 15, 'url': 'https://cdn.eventfinda.co.nz/uploads/locations/transformed/1404573-33653-15.jpg', 'width': 75, 'height': 75}, {'transformation_id': 8, 'url': 'https://cdn.eventfinda.co.nz/uploads/locations/transformed/1404573-33653-8.jpg', 'width': 190, 'height': 127}, {'transformation_id': 27, 'url': 'https://cdn.eventfinda.co.nz/uploads/locations/transformed/1404573-33653-27.jpg', 'width': 350, 'height': 350}]}}, {'id': 1404574, 'is_primary': False, 'original_url': 'https://cdn.eventfinda.co.nz/uploads/locations/1404574-33653.jpg', 'transforms': {'@attributes': {'count': 4}, 'transforms': [{'transformation_id': 2, 'url': 'https://cdn.eventfinda.co.nz/uploads/locations/transformed/1404574-33653-2.jpg', 'width': 80, 'height': 80}, {'transformation_id': 15, 'url': 'https://cdn.eventfinda.co.nz/uploads/locations/transformed/1404574-33653-15.jpg', 'width': 75, 'height': 75}, {'transformation_id': 8, 'url': 'https://cdn.eventfinda.co.nz/uploads/locations/transformed/1404574-33653-8.jpg', 'width': 190, 'height': 127}, {'transformation_id': 27, 'url': 'https://cdn.eventfinda.co.nz/uploads/locations/transformed/1404574-33653-27.jpg', 'width': 350, 'height': 350}]}}, {'id': 1404575, 'is_primary': False, 'original_url': 'https://cdn.eventfinda.co.nz/uploads/locations/1404575-33653.jpg', 'transforms': {'@attributes': {'count': 4}, 'transforms': [{'transformation_id': 2, 'url': 'https://cdn.eventfinda.co.nz/uploads/locations/transformed/1404575-33653-2.jpg', 'width': 80, 'height': 80}, {'transformation_id': 15, 'url': 'https://cdn.eventfinda.co.nz/uploads/locations/transformed/1404575-33653-15.jpg', 'width': 75, 'height': 75}, {'transformation_id': 8, 'url': 'https://cdn.eventfinda.co.nz/uploads/locations/transformed/1404575-33653-8.jpg', 'width': 190, 'height': 127}, {'transformation_id': 27, 'url': 'https://cdn.eventfinda.co.nz/uploads/locations/transformed/1404575-33653-27.jpg', 'width': 350, 'height': 350}]}}, {'id': 1404576, 'is_primary': False, 'original_url': 'https://cdn.eventfinda.co.nz/uploads/locations/1404576-33653.jpg', 'transforms': {'@attributes': {'count': 4}, 'transforms': [{'transformation_id': 2, 'url': 'https://cdn.eventfinda.co.nz/uploads/locations/transformed/1404576-33653-2.jpg', 'width': 80, 'height': 80}, {'transformation_id': 15, 'url': 'https://cdn.eventfinda.co.nz/uploads/locations/transformed/1404576-33653-15.jpg', 'width': 75, 'height': 75}, {'transformation_id': 8, 'url': 'https://cdn.eventfinda.co.nz/uploads/locations/transformed/1404576-33653-8.jpg', 'width': 190, 'height': 127}, {'transformation_id': 27, 'url': 'https://cdn.eventfinda.co.nz/uploads/locations/transformed/1404576-33653-27.jpg', 'width': 350, 'height': 350}]}}, {'id': 1404577, 'is_primary': False, 'original_url': 'https://cdn.eventfinda.co.nz/uploads/locations/1404577-33653.jpg', 'transforms': {'@attributes': {'count': 4}, 'transforms': [{'transformation_id': 2, 'url': 'https://cdn.eventfinda.co.nz/uploads/locations/transformed/1404577-33653-2.jpg', 'width': 80, 'height': 80}, {'transformation_id': 15, 'url': 'https://cdn.eventfinda.co.nz/uploads/locations/transformed/1404577-33653-15.jpg', 'width': 75, 'height': 75}, {'transformation_id': 8, 'url': 'https://cdn.eventfinda.co.nz/uploads/locations/transformed/1404577-33653-8.jpg', 'width': 190, 'height': 127}, {'transformation_id': 27, 'url': 'https://cdn.eventfinda.co.nz/uploads/locations/transformed/1404577-33653-27.jpg', 'width': 350, 'height': 350}]}}, {'id': 1404578, 'is_primary': False, 'original_url': 'https://cdn.eventfinda.co.nz/uploads/locations/1404578-33653.jpg', 'transforms': {'@attributes': {'count': 4}, 'transforms': [{'transformation_id': 2, 'url': 'https://cdn.eventfinda.co.nz/uploads/locations/transformed/1404578-33653-2.jpg', 'width': 80, 'height': 80}, {'transformation_id': 15, 'url': 'https://cdn.eventfinda.co.nz/uploads/locations/transformed/1404578-33653-15.jpg', 'width': 75, 'height': 75}, {'transformation_id': 8, 'url': 'https://cdn.eventfinda.co.nz/uploads/locations/transformed/1404578-33653-8.jpg', 'width': 190, 'height': 127}, {'transformation_id': 27, 'url': 'https://cdn.eventfinda.co.nz/uploads/locations/transformed/1404578-33653-27.jpg', 'width': 350, 'height': 350}]}}, {'id': 1420124, 'is_primary': False, 'original_url': 'https://cdn.eventfinda.co.nz/uploads/locations/1420124-33653.jpg', 'transforms': {'@attributes': {'count': 4}, 'transforms': [{'transformation_id': 2, 'url': 'https://cdn.eventfinda.co.nz/uploads/locations/transformed/1420124-33653-2.jpg', 'width': 80, 'height': 80}, {'transformation_id': 15, 'url': 'https://cdn.eventfinda.co.nz/uploads/locations/transformed/1420124-33653-15.jpg', 'width': 75, 'height': 75}, {'transformation_id': 8, 'url': 'https://cdn.eventfinda.co.nz/uploads/locations/transformed/1420124-33653-8.jpg', 'width': 190, 'height': 127}, {'transformation_id': 27, 'url': 'https://cdn.eventfinda.co.nz/uploads/locations/transformed/1420124-33653-27.jpg', 'width': 350, 'height': 350}]}}, {'id': 1420125, 'is_primary': False, 'original_url': 'https://cdn.eventfinda.co.nz/uploads/locations/1420125-33653.jpg', 'transforms': {'@attributes': {'count': 4}, 'transforms': [{'transformation_id': 2, 'url': 'https://cdn.eventfinda.co.nz/uploads/locations/transformed/1420125-33653-2.jpg', 'width': 80, 'height': 80}, {'transformation_id': 15, 'url': 'https://cdn.eventfinda.co.nz/uploads/locations/transformed/1420125-33653-15.jpg', 'width': 75, 'height': 75}, {'transformation_id': 8, 'url': 'https://cdn.eventfinda.co.nz/uploads/locations/transformed/1420125-33653-8.jpg', 'width': 190, 'height': 127}, {'transformation_id': 27, 'url': 'https://cdn.eventfinda.co.nz/uploads/locations/transformed/1420125-33653-27.jpg', 'width': 350, 'height': 350}]}}, {'id': 1420127, 'is_primary': False, 'original_url': 'https://cdn.eventfinda.co.nz/uploads/locations/1420127-33653.jpg', 'transforms': {'@attributes': {'count': 4}, 'transforms': [{'transformation_id': 2, 'url': 'https://cdn.eventfinda.co.nz/uploads/locations/transformed/1420127-33653-2.jpg', 'width': 80, 'height': 80}, {'transformation_id': 15, 'url': 'https://cdn.eventfinda.co.nz/uploads/locations/transformed/1420127-33653-15.jpg', 'width': 75, 'height': 75}, {'transformation_id': 8, 'url': 'https://cdn.eventfinda.co.nz/uploads/locations/transformed/1420127-33653-8.jpg', 'width': 190, 'height': 127}, {'transformation_id': 27, 'url': 'https://cdn.eventfinda.co.nz/uploads/locations/transformed/1420127-33653-27.jpg', 'width': 350, 'height': 350}]}}, {'id': 1420128, 'is_primary': False, 'original_url': 'https://cdn.eventfinda.co.nz/uploads/locations/1420128-33653.jpg', 'transforms': {'@attributes': {'count': 4}, 'transforms': [{'transformation_id': 2, 'url': 'https://cdn.eventfinda.co.nz/uploads/locations/transformed/1420128-33653-2.jpg', 'width': 80, 'height': 80}, {'transformation_id': 15, 'url': 'https://cdn.eventfinda.co.nz/uploads/locations/transformed/1420128-33653-15.jpg', 'width': 75, 'height': 75}, {'transformation_id': 8, 'url': 'https://cdn.eventfinda.co.nz/uploads/locations/transformed/1420128-33653-8.jpg', 'width': 190, 'height': 127}, {'transformation_id': 27, 'url': 'https://cdn.eventfinda.co.nz/uploads/locations/transformed/1420128-33653-27.jpg', 'width': 350, 'height': 350}]}}, {'id': 1420129, 'is_primary': False, 'original_url': 'https://cdn.eventfinda.co.nz/uploads/locations/1420129-33653.jpg', 'transforms': {'@attributes': {'count': 4}, 'transforms': [{'transformation_id': 2, 'url': 'https://cdn.eventfinda.co.nz/uploads/locations/transformed/1420129-33653-2.jpg', 'width': 80, 'height': 80}, {'transformation_id': 15, 'url': 'https://cdn.eventfinda.co.nz/uploads/locations/transformed/1420129-33653-15.jpg', 'width': 75, 'height': 75}, {'transformation_id': 8, 'url': 'https://cdn.eventfinda.co.nz/uploads/locations/transformed/1420129-33653-8.jpg', 'width': 190, 'height': 127}, {'transformation_id': 27, 'url': 'https://cdn.eventfinda.co.nz/uploads/locations/transformed/1420129-33653-27.jpg', 'width': 350, 'height': 350}]}}]}, 'point': {'lat': -35.7216, 'lng': 174.3208}}, 'category': {'id': 253, 'name': 'Cabaret, Burlesque', 'url_slug': 'cabaret-burlesque', 'parent_id': 1, 'count_current_events': 18}, 'datetime_summary': 'Sat 12 Aug', 'external_reference': None, 'video': None, 'is_sold_out': True, 'sessions': {'@attributes': {'count': 2}, 'sessions': [{'id': 3406564, 'timezone': 'Pacific/Auckland', 'datetime_start': '2023-08-11 20:30:00', 'datetime_end': '2023-08-11 22:00:00', 'is_cancelled': False, 'is_ticketed': True, 'is_currently_onsale': False, 'is_for_tickets_only': False, 'ticketing_label': None, 'offsale_at': '2023-08-11 18:00:00', 'session_tickets': {'@attributes': {'count': 1}, 'session_tickets': [{'id': 2920744, 'name': 'General Admission', 'price': '38.00', 'is_ticketed': True, 'description': '', 'minimum_purchase_quantity': 1, 'is_addon': False, 'onsale_at': '2023-07-03 10:00:00', 'offsale_at': None, 'is_sold_out': False, 'is_limited_remaining': True}]}, 'datetime_summary': 'Fri 11 Aug,  8:30pm - 10:00pm'}, {'id': 3406565, 'timezone': 'Pacific/Auckland', 'datetime_start': '2023-08-12 19:30:00', 'datetime_end': '2023-08-12 21:00:00', 'is_cancelled': False, 'is_ticketed': True, 'is_currently_onsale': True, 'is_for_tickets_only': False, 'ticketing_label': None, 'offsale_at': None, 'session_tickets': {'@attributes': {'count': 1}, 'session_tickets': [{'id': 2920745, 'name': 'General Admission', 'price': '38.00', 'is_ticketed': True, 'description': '', 'minimum_purchase_quantity': 1, 'is_addon': False, 'onsale_at': '2023-07-03 10:00:00', 'offsale_at': None, 'is_sold_out': True, 'is_limited_remaining': True}]}, 'datetime_summary': 'Sat 12 Aug,  7:30pm -  9:00pm'}]}, 'ticket_types': {'@attributes': {'count': 1}, 'ticket_types': [{'id': 893071, 'name': 'General Admission', 'price': '38.00', 'is_ticketed': True, 'description': '', 'minimum_purchase_quantity': 1, 'is_addon': False, 'onsale_at': '2023-07-03 10:00:00', 'offsale_at': None}]}, 'artists': {'@attributes': {'count': 0}, 'artists': []}, 'web_sites': {'@attributes': {'count': 0}, 'web_sites': []}, 'images': {'@attributes': {'count': 7}, 'images': [{'id': 1863489, 'is_primary': True, 'original_url': 'https://cdn.eventfinda.co.nz/uploads/events/1863489-804081.jpg', 'transforms': {'@attributes': {'count': 5}, 'transforms': [{'transformation_id': 2, 'url': 'https://cdn.eventfinda.co.nz/uploads/events/transformed/1863489-804081-2.jpg', 'width': 80, 'height': 34}, {'transformation_id': 15, 'url': 'https://cdn.eventfinda.co.nz/uploads/events/transformed/1863489-804081-15.jpg', 'width': 75, 'height': 75}, {'transformation_id': 8, 'url': 'https://cdn.eventfinda.co.nz/uploads/events/transformed/1863489-804081-8.jpg', 'width': 190, 'height': 127}, {'transformation_id': 27, 'url': 'https://cdn.eventfinda.co.nz/uploads/events/transformed/1863489-804081-27.jpg', 'width': 350, 'height': 350}, {'transformation_id': 7, 'url': 'https://cdn.eventfinda.co.nz/uploads/events/transformed/1863489-804081-7.jpg', 'width': 650, 'height': 280}]}}, {'id': 1863492, 'is_primary': False, 'original_url': 'https://cdn.eventfinda.co.nz/uploads/events/1863492-804081.png', 'transforms': {'@attributes': {'count': 5}, 'transforms': [{'transformation_id': 2, 'url': 'https://cdn.eventfinda.co.nz/uploads/events/transformed/1863492-804081-2.png', 'width': 80, 'height': 80}, {'transformation_id': 15, 'url': 'https://cdn.eventfinda.co.nz/uploads/events/transformed/1863492-804081-15.png', 'width': 75, 'height': 75}, {'transformation_id': 8, 'url': 'https://cdn.eventfinda.co.nz/uploads/events/transformed/1863492-804081-8.png', 'width': 190, 'height': 127}, {'transformation_id': 27, 'url': 'https://cdn.eventfinda.co.nz/uploads/events/transformed/1863492-804081-27.png', 'width': 350, 'height': 350}, {'transformation_id': 7, 'url': 'https://cdn.eventfinda.co.nz/uploads/events/transformed/1863492-804081-7.png', 'width': 650, 'height': 280}]}}, {'id': 1863493, 'is_primary': False, 'original_url': 'https://cdn.eventfinda.co.nz/uploads/events/1863493-804081.png', 'transforms': {'@attributes': {'count': 5}, 'transforms': [{'transformation_id': 2, 'url': 'https://cdn.eventfinda.co.nz/uploads/events/transformed/1863493-804081-2.png', 'width': 80, 'height': 80}, {'transformation_id': 15, 'url': 'https://cdn.eventfinda.co.nz/uploads/events/transformed/1863493-804081-15.png', 'width': 75, 'height': 75}, {'transformation_id': 8, 'url': 'https://cdn.eventfinda.co.nz/uploads/events/transformed/1863493-804081-8.png', 'width': 190, 'height': 127}, {'transformation_id': 27, 'url': 'https://cdn.eventfinda.co.nz/uploads/events/transformed/1863493-804081-27.png', 'width': 350, 'height': 350}, {'transformation_id': 7, 'url': 'https://cdn.eventfinda.co.nz/uploads/events/transformed/1863493-804081-7.png', 'width': 650, 'height': 280}]}}, {'id': 1863494, 'is_primary': False, 'original_url': 'https://cdn.eventfinda.co.nz/uploads/events/1863494-804081.png', 'transforms': {'@attributes': {'count': 5}, 'transforms': [{'transformation_id': 2, 'url': 'https://cdn.eventfinda.co.nz/uploads/events/transformed/1863494-804081-2.png', 'width': 80, 'height': 80}, {'transformation_id': 15, 'url': 'https://cdn.eventfinda.co.nz/uploads/events/transformed/1863494-804081-15.png', 'width': 75, 'height': 75}, {'transformation_id': 8, 'url': 'https://cdn.eventfinda.co.nz/uploads/events/transformed/1863494-804081-8.png', 'width': 190, 'height': 127}, {'transformation_id': 27, 'url': 'https://cdn.eventfinda.co.nz/uploads/events/transformed/1863494-804081-27.png', 'width': 350, 'height': 350}, {'transformation_id': 7, 'url': 'https://cdn.eventfinda.co.nz/uploads/events/transformed/1863494-804081-7.png', 'width': 650, 'height': 280}]}}, {'id': 1863495, 'is_primary': False, 'original_url': 'https://cdn.eventfinda.co.nz/uploads/events/1863495-804081.png', 'transforms': {'@attributes': {'count': 5}, 'transforms': [{'transformation_id': 2, 'url': 'https://cdn.eventfinda.co.nz/uploads/events/transformed/1863495-804081-2.png', 'width': 80, 'height': 80}, {'transformation_id': 15, 'url': 'https://cdn.eventfinda.co.nz/uploads/events/transformed/1863495-804081-15.png', 'width': 75, 'height': 75}, {'transformation_id': 8, 'url': 'https://cdn.eventfinda.co.nz/uploads/events/transformed/1863495-804081-8.png', 'width': 190, 'height': 127}, {'transformation_id': 27, 'url': 'https://cdn.eventfinda.co.nz/uploads/events/transformed/1863495-804081-27.png', 'width': 350, 'height': 350}, {'transformation_id': 7, 'url': 'https://cdn.eventfinda.co.nz/uploads/events/transformed/1863495-804081-7.png', 'width': 650, 'height': 280}]}}, {'id': 1863496, 'is_primary': False, 'original_url': 'https://cdn.eventfinda.co.nz/uploads/events/1863496-804081.png', 'transforms': {'@attributes': {'count': 5}, 'transforms': [{'transformation_id': 2, 'url': 'https://cdn.eventfinda.co.nz/uploads/events/transformed/1863496-804081-2.png', 'width': 80, 'height': 80}, {'transformation_id': 15, 'url': 'https://cdn.eventfinda.co.nz/uploads/events/transformed/1863496-804081-15.png', 'width': 75, 'height': 75}, {'transformation_id': 8, 'url': 'https://cdn.eventfinda.co.nz/uploads/events/transformed/1863496-804081-8.png', 'width': 190, 'height': 127}, {'transformation_id': 27, 'url': 'https://cdn.eventfinda.co.nz/uploads/events/transformed/1863496-804081-27.png', 'width': 350, 'height': 350}, {'transformation_id': 7, 'url': 'https://cdn.eventfinda.co.nz/uploads/events/transformed/1863496-804081-7.png', 'width': 650, 'height': 280}]}}, {'id': 1863497, 'is_primary': False, 'original_url': 'https://cdn.eventfinda.co.nz/uploads/events/1863497-804081.png', 'transforms': {'@attributes': {'count': 5}, 'transforms': [{'transformation_id': 2, 'url': 'https://cdn.eventfinda.co.nz/uploads/events/transformed/1863497-804081-2.png', 'width': 80, 'height': 80}, {'transformation_id': 15, 'url': 'https://cdn.eventfinda.co.nz/uploads/events/transformed/1863497-804081-15.png', 'width': 75, 'height': 75}, {'transformation_id': 8, 'url': 'https://cdn.eventfinda.co.nz/uploads/events/transformed/1863497-804081-8.png', 'width': 190, 'height': 127}, {'transformation_id': 27, 'url': 'https://cdn.eventfinda.co.nz/uploads/events/transformed/1863497-804081-27.png', 'width': 350, 'height': 350}, {'transformation_id': 7, 'url': 'https://cdn.eventfinda.co.nz/uploads/events/transformed/1863497-804081-7.png', 'width': 650, 'height': 280}]}}]}, 'ticketing': {'@attributes': {'count': 1}, 'iframe': [{'url': 'https://event804081.eventfinda.co.nz/2023/welcome-back-to-the-dollhouse/whangarei/tickets/embedded.js', 'name': 'iframe_url'}]}}]}\n",
      "Trade Wars\n",
      "1850242\n",
      "https://cdn.eventfinda.co.nz/uploads/events/transformed/1850242-799927-2.jpg\n",
      "https://cdn.eventfinda.co.nz/uploads/events/transformed/1850242-799927-15.jpg\n",
      "https://cdn.eventfinda.co.nz/uploads/events/transformed/1850242-799927-8.jpg\n",
      "https://cdn.eventfinda.co.nz/uploads/events/transformed/1850242-799927-27.jpg\n",
      "https://cdn.eventfinda.co.nz/uploads/events/transformed/1850242-799927-7.jpg?v=2\n",
      "Welcome Back to the Dollhouse\n",
      "1863489\n",
      "https://cdn.eventfinda.co.nz/uploads/events/transformed/1863489-804081-2.jpg\n",
      "https://cdn.eventfinda.co.nz/uploads/events/transformed/1863489-804081-15.jpg\n",
      "https://cdn.eventfinda.co.nz/uploads/events/transformed/1863489-804081-8.jpg\n",
      "https://cdn.eventfinda.co.nz/uploads/events/transformed/1863489-804081-27.jpg\n",
      "https://cdn.eventfinda.co.nz/uploads/events/transformed/1863489-804081-7.jpg\n",
      "1863492\n",
      "https://cdn.eventfinda.co.nz/uploads/events/transformed/1863492-804081-2.png\n",
      "https://cdn.eventfinda.co.nz/uploads/events/transformed/1863492-804081-15.png\n",
      "https://cdn.eventfinda.co.nz/uploads/events/transformed/1863492-804081-8.png\n",
      "https://cdn.eventfinda.co.nz/uploads/events/transformed/1863492-804081-27.png\n",
      "https://cdn.eventfinda.co.nz/uploads/events/transformed/1863492-804081-7.png\n",
      "1863493\n",
      "https://cdn.eventfinda.co.nz/uploads/events/transformed/1863493-804081-2.png\n",
      "https://cdn.eventfinda.co.nz/uploads/events/transformed/1863493-804081-15.png\n",
      "https://cdn.eventfinda.co.nz/uploads/events/transformed/1863493-804081-8.png\n",
      "https://cdn.eventfinda.co.nz/uploads/events/transformed/1863493-804081-27.png\n",
      "https://cdn.eventfinda.co.nz/uploads/events/transformed/1863493-804081-7.png\n",
      "1863494\n",
      "https://cdn.eventfinda.co.nz/uploads/events/transformed/1863494-804081-2.png\n",
      "https://cdn.eventfinda.co.nz/uploads/events/transformed/1863494-804081-15.png\n",
      "https://cdn.eventfinda.co.nz/uploads/events/transformed/1863494-804081-8.png\n",
      "https://cdn.eventfinda.co.nz/uploads/events/transformed/1863494-804081-27.png\n",
      "https://cdn.eventfinda.co.nz/uploads/events/transformed/1863494-804081-7.png\n",
      "1863495\n",
      "https://cdn.eventfinda.co.nz/uploads/events/transformed/1863495-804081-2.png\n",
      "https://cdn.eventfinda.co.nz/uploads/events/transformed/1863495-804081-15.png\n",
      "https://cdn.eventfinda.co.nz/uploads/events/transformed/1863495-804081-8.png\n",
      "https://cdn.eventfinda.co.nz/uploads/events/transformed/1863495-804081-27.png\n",
      "https://cdn.eventfinda.co.nz/uploads/events/transformed/1863495-804081-7.png\n",
      "1863496\n",
      "https://cdn.eventfinda.co.nz/uploads/events/transformed/1863496-804081-2.png\n",
      "https://cdn.eventfinda.co.nz/uploads/events/transformed/1863496-804081-15.png\n",
      "https://cdn.eventfinda.co.nz/uploads/events/transformed/1863496-804081-8.png\n",
      "https://cdn.eventfinda.co.nz/uploads/events/transformed/1863496-804081-27.png\n",
      "https://cdn.eventfinda.co.nz/uploads/events/transformed/1863496-804081-7.png\n",
      "1863497\n",
      "https://cdn.eventfinda.co.nz/uploads/events/transformed/1863497-804081-2.png\n",
      "https://cdn.eventfinda.co.nz/uploads/events/transformed/1863497-804081-15.png\n",
      "https://cdn.eventfinda.co.nz/uploads/events/transformed/1863497-804081-8.png\n",
      "https://cdn.eventfinda.co.nz/uploads/events/transformed/1863497-804081-27.png\n",
      "https://cdn.eventfinda.co.nz/uploads/events/transformed/1863497-804081-7.png\n"
     ]
    }
   ],
   "source": [
    "# Set up the request URL\n",
    "request_url = 'https://api.eventfinda.co.nz/v2/events.json?rows=2'\n",
    "\n",
    "# Replace 'username' and 'password' with your actual Eventfinda API username and password\n",
    "username = 'summeroftechcreatecamp'\n",
    "password = 'tcr5sxb84vxj'\n",
    "\n",
    "# Encode the username and password in base64\n",
    "credentials = f\"{username}:{password}\"\n",
    "base64_credentials = base64.b64encode(credentials.encode()).decode()\n",
    "\n",
    "# Set up the headers for the HTTP request\n",
    "headers = {\n",
    "    'Authorization': f'Basic {base64_credentials}'\n",
    "}\n",
    "\n",
    "# Make the API request\n",
    "response = requests.get(request_url, headers=headers)\n",
    "\n",
    "# Check if the request was successful\n",
    "if response.status_code == 200:\n",
    "    data = response.json()\n",
    "    # Process the data as needed\n",
    "    print(data)\n",
    "else:\n",
    "    print(\"Error:\", response.status_code)\n",
    "\n",
    "for event in data[\"events\"]:\n",
    "    print(event[\"name\"])\n",
    "    print(event[\"address\"])\n",
    "    print(event[\"is_free\"])\n",
    "    print(event['restrictions'])\n",
    "    \n",
    "    for img in event[\"images\"][\"images\"]:\n",
    "        print(img['id'])\n",
    "        for imgtran in img[\"transforms\"][\"transforms\"]:\n",
    "            print(imgtran[\"url\"])\n"
   ]
  },
  {
   "cell_type": "code",
   "execution_count": 32,
   "metadata": {},
   "outputs": [
    {
     "name": "stdout",
     "output_type": "stream",
     "text": [
      "{'@attributes': {'count': 153}, 'categories': [{'id': 246, 'name': 'All Events', 'url_slug': 'whatson', 'parent_id': None, 'count_current_events': 4228}, {'id': 6, 'name': 'Concerts & Gig Guide', 'url_slug': 'concerts-gig-guide', 'parent_id': 246, 'count_current_events': 845}, {'id': 1, 'name': 'Performing Arts', 'url_slug': 'arts', 'parent_id': 246, 'count_current_events': 838}, {'id': 21, 'name': 'Theatre', 'url_slug': 'theatre', 'parent_id': 1, 'count_current_events': 184}, {'id': 7, 'name': 'Sports & Outdoors', 'url_slug': 'sports', 'parent_id': 246, 'count_current_events': 286}, {'id': 190, 'name': 'Festivals & Lifestyle', 'url_slug': 'lifestyle', 'parent_id': 246, 'count_current_events': 1106}, {'id': 22, 'name': 'Dance', 'url_slug': 'dance', 'parent_id': 1, 'count_current_events': 73}, {'id': 11, 'name': 'Exhibitions', 'url_slug': 'exhibitions', 'parent_id': 246, 'count_current_events': 242}, {'id': 3, 'name': 'Workshops, Conferences & Classes', 'url_slug': 'workshops-conferences-classes', 'parent_id': 246, 'count_current_events': 911}, {'id': 23, 'name': 'Musicals', 'url_slug': 'arts-culture-musicals', 'parent_id': 1, 'count_current_events': 27}]}\n"
     ]
    },
    {
     "ename": "KeyError",
     "evalue": "'category'",
     "output_type": "error",
     "traceback": [
      "\u001b[0;31m---------------------------------------------------------------------------\u001b[0m",
      "\u001b[0;31mKeyError\u001b[0m                                  Traceback (most recent call last)",
      "Cell \u001b[0;32mIn[32], line 28\u001b[0m\n\u001b[1;32m     25\u001b[0m \u001b[39melse\u001b[39;00m:\n\u001b[1;32m     26\u001b[0m     \u001b[39mprint\u001b[39m(\u001b[39m\"\u001b[39m\u001b[39mError:\u001b[39m\u001b[39m\"\u001b[39m, response\u001b[39m.\u001b[39mstatus_code)\n\u001b[0;32m---> 28\u001b[0m \u001b[39mfor\u001b[39;00m category \u001b[39min\u001b[39;00m data[\u001b[39m\"\u001b[39;49m\u001b[39mcategory\u001b[39;49m\u001b[39m\"\u001b[39;49m]:\n\u001b[1;32m     29\u001b[0m     \u001b[39mprint\u001b[39m(category[\u001b[39m\"\u001b[39m\u001b[39mname\u001b[39m\u001b[39m\"\u001b[39m])\n\u001b[1;32m     30\u001b[0m     \u001b[39mfor\u001b[39;00m imgtran \u001b[39min\u001b[39;00m img[\u001b[39m\"\u001b[39m\u001b[39mtransforms\u001b[39m\u001b[39m\"\u001b[39m][\u001b[39m\"\u001b[39m\u001b[39mtransforms\u001b[39m\u001b[39m\"\u001b[39m]:\n",
      "\u001b[0;31mKeyError\u001b[0m: 'category'"
     ]
    }
   ],
   "source": [
    "# Set up the request URL\n",
    "request_url = \"https://api.eventfinda.co.nz/v2/categories.json\"\n",
    "\n",
    "# Replace 'username' and 'password' with your actual Eventfinda API username and password\n",
    "username = 'summeroftechcreatecamp'\n",
    "password = 'tcr5sxb84vxj'\n",
    "\n",
    "# Encode the username and password in base64\n",
    "credentials = f\"{username}:{password}\"\n",
    "base64_credentials = base64.b64encode(credentials.encode()).decode()\n",
    "\n",
    "# Set up the headers for the HTTP request\n",
    "headers = {\n",
    "    'Authorization': f'Basic {base64_credentials}'\n",
    "}\n",
    "\n",
    "# Make the API request\n",
    "response = requests.get(request_url, headers=headers)\n",
    "\n",
    "# Check if the request was successful\n",
    "if response.status_code == 200:\n",
    "    data = response.json()\n",
    "    # Process the data as needed\n",
    "    print(data)\n",
    "else:\n",
    "    print(\"Error:\", response.status_code)\n",
    "\n",
    "for category in data[\"category\"]:\n",
    "    print(category[\"name\"])\n",
    "    for imgtran in img[\"transforms\"][\"transforms\"]:\n",
    "        print(imgtran[\"url\"])"
   ]
  },
  {
   "cell_type": "code",
   "execution_count": null,
   "metadata": {},
   "outputs": [],
   "source": []
  }
 ],
 "metadata": {
  "kernelspec": {
   "display_name": "create_camp_2023",
   "language": "python",
   "name": "python3"
  },
  "language_info": {
   "codemirror_mode": {
    "name": "ipython",
    "version": 3
   },
   "file_extension": ".py",
   "mimetype": "text/x-python",
   "name": "python",
   "nbconvert_exporter": "python",
   "pygments_lexer": "ipython3",
   "version": "3.10.12"
  },
  "orig_nbformat": 4
 },
 "nbformat": 4,
 "nbformat_minor": 2
}
